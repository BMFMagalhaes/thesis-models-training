{
 "cells": [
  {
   "cell_type": "code",
   "execution_count": 73,
   "metadata": {},
   "outputs": [],
   "source": [
    "import math\n",
    "import re\n",
    "import os"
   ]
  },
  {
   "cell_type": "markdown",
   "metadata": {},
   "source": [
    "# Funções para calcular Média e Desvio Padrão"
   ]
  },
  {
   "cell_type": "code",
   "execution_count": 74,
   "metadata": {},
   "outputs": [],
   "source": [
    "def calculate_mean(data):\n",
    "    return sum(data)/len(data)\n",
    "\n",
    "def calculate_variance(data, mean):\n",
    "    return sum((x-mean)**2 for x in data)/len(data)\n",
    "\n",
    "def cal_stand_dev(data):\n",
    "    mean = calculate_mean(data)\n",
    "    variance = calculate_variance(data, mean)\n",
    "    return math.sqrt(variance)\n",
    "\n",
    "def calculate_sum(data):\n",
    "    return sum(data)"
   ]
  },
  {
   "cell_type": "markdown",
   "metadata": {},
   "source": [
    "# Função para ter um array 2D com [voluntarios][gestos]"
   ]
  },
  {
   "cell_type": "markdown",
   "metadata": {},
   "source": [
    "Cada entrada nesta tabela tem a soma dos 6 trials"
   ]
  },
  {
   "cell_type": "code",
   "execution_count": 75,
   "metadata": {},
   "outputs": [],
   "source": [
    "def count_items(source_folder, regex_pattern):\n",
    "    # Check if the source folder exists\n",
    "    if not os.path.exists(source_folder):\n",
    "        print(\"{} folder does not exist.\".format(source_folder))\n",
    "        return\n",
    "\n",
    "    # Get a list of all items in the source folder\n",
    "    items = os.listdir(source_folder)\n",
    "    ammount = 0\n",
    "\n",
    "    # Iterate over each item\n",
    "    for i in range(len(items)):\n",
    "        #  Get the file at index i\n",
    "        item = items[i]\n",
    "        # Check if the item matches the regular expression pattern\n",
    "        if re.match(regex_pattern, item):\n",
    "            ammount += 1\n",
    "    return ammount\n",
    "\n",
    "def create_dataset(ids_to_copy):\n",
    "    gesture_amount = []\n",
    "    for x in ids_to_copy:\n",
    "        gesture_row = []\n",
    "        if x < 10:\n",
    "            source_folder = \"D:\\\\BackupProtocoloRecolha\\\\0{}\".format(x)\n",
    "        else:\n",
    "            source_folder = \"D:\\\\BackupProtocoloRecolha\\\\{}\".format(x)\n",
    "\n",
    "        for i in range(13):\n",
    "            regex_pattern = r\"^({})-.*\\.png\".format(i)\n",
    "           \n",
    "            if i != 6:\n",
    "                gesture_row.append(count_items(source_folder, regex_pattern))\n",
    "        \n",
    "        gesture_amount.append(gesture_row)\n",
    "    return gesture_amount"
   ]
  },
  {
   "cell_type": "code",
   "execution_count": 76,
   "metadata": {},
   "outputs": [],
   "source": [
    "ids = [3, 6, 4, 5, 7, 8, 9, 10, 11, 12, 13, 14, 15, 16, 18, 19, 20, 21, 22, 23, 24]\n",
    "ids_hom = [6, 4, 5, 7, 8, 10, 12, 13, 19, 20, 21, 22, 23, 24]\n",
    "ids_mul = [3,9,11,14,15,16,18]\n",
    "\n",
    "gesture_amount_2 = create_dataset(ids)"
   ]
  },
  {
   "cell_type": "markdown",
   "metadata": {},
   "source": [
    "# Número de frames totais"
   ]
  },
  {
   "cell_type": "code",
   "execution_count": 77,
   "metadata": {},
   "outputs": [
    {
     "name": "stdout",
     "output_type": "stream",
     "text": [
      "339714\n"
     ]
    }
   ],
   "source": [
    "numbers = []\n",
    "for i in range(len(gesture_amount_2)):\n",
    "    numbers.append(sum(gesture_amount_2[i]))\n",
    "\n",
    "print(calculate_sum(numbers))"
   ]
  },
  {
   "cell_type": "markdown",
   "metadata": {},
   "source": [
    "# Média e desvio padrão para cada voluntário"
   ]
  },
  {
   "cell_type": "code",
   "execution_count": 78,
   "metadata": {},
   "outputs": [
    {
     "name": "stdout",
     "output_type": "stream",
     "text": [
      "Each participant has 16176.857142857143 +- 330.08069514305504\n"
     ]
    }
   ],
   "source": [
    "numbers = []\n",
    "for i in range(21):\n",
    "    numbers.append(sum(gesture_amount_2[i]))\n",
    "\n",
    "mean = calculate_mean(numbers)\n",
    "dev = cal_stand_dev(numbers)\n",
    "print(f\"Each participant has {mean} +- {dev}\")"
   ]
  },
  {
   "cell_type": "markdown",
   "metadata": {},
   "source": [
    "# Média, desvio padrão e número de frames para cada gesto"
   ]
  },
  {
   "cell_type": "code",
   "execution_count": 79,
   "metadata": {},
   "outputs": [
    {
     "name": "stdout",
     "output_type": "stream",
     "text": [
      "Gesture 0 has 1336.4285714285713 +- 34.9905721024167 and a total of 28065 samples\n",
      "Gesture 1 has 1347.2857142857142 +- 28.329931768601305 and a total of 28293 samples\n",
      "Gesture 2 has 1342.3809523809523 +- 30.220579854000455 and a total of 28190 samples\n",
      "Gesture 3 has 1352.7142857142858 +- 30.91330867217588 and a total of 28407 samples\n",
      "Gesture 4 has 1354.5714285714287 +- 28.772624933749636 and a total of 28446 samples\n",
      "Gesture 5 has 1344.3809523809523 +- 29.28102943557921 and a total of 28232 samples\n",
      "Gesture 6 has 1353.1904761904761 +- 32.1937868120085 and a total of 28417 samples\n",
      "Gesture 7 has 1354.4285714285713 +- 32.77567540050371 and a total of 28443 samples\n",
      "Gesture 8 has 1345.5714285714287 +- 32.72915029314945 and a total of 28257 samples\n",
      "Gesture 9 has 1351.1904761904761 +- 29.201466120432492 and a total of 28375 samples\n",
      "Gesture 10 has 1351.0 +- 32.17215595895959 and a total of 28371 samples\n",
      "Gesture 11 has 1343.7142857142858 +- 28.867749111690543 and a total of 28218 samples\n"
     ]
    }
   ],
   "source": [
    "for i in range(12):\n",
    "    numbers = []\n",
    "    for x in range(21):\n",
    "        numbers.append(gesture_amount_2[x][i])\n",
    "    \n",
    "    result = calculate_sum(numbers)\n",
    "    mean = calculate_mean(numbers)\n",
    "    dev = cal_stand_dev(numbers)\n",
    "    print(f\"Gesture {i} has {mean} +- {dev} and a total of {result} samples\")"
   ]
  },
  {
   "cell_type": "markdown",
   "metadata": {},
   "source": [
    "# Média, desvio padrão e número de frames para cada classe"
   ]
  },
  {
   "cell_type": "code",
   "execution_count": 80,
   "metadata": {},
   "outputs": [
    {
     "name": "stdout",
     "output_type": "stream",
     "text": [
      "Class 0 has 1344.8095238095239 +- 34.650113787511984 and a total of 56482 samples\n",
      "Class 1 has 1350.857142857143 +- 30.841045183767864 and a total of 56736 samples\n",
      "Class 2 has 1343.9761904761904 +- 31.54021476452388 and a total of 56447 samples\n",
      "Class 3 has 1351.952380952381 +- 30.07922268257956 and a total of 56782 samples\n",
      "Class 4 has 1352.7857142857142 +- 30.57195704928177 and a total of 56817 samples\n",
      "Class 5 has 1344.047619047619 +- 29.077034286572182 and a total of 56450 samples\n"
     ]
    }
   ],
   "source": [
    "for i in range(6):\n",
    "    numbers = []\n",
    "    for x in range(21):\n",
    "        numbers.append(gesture_amount_2[x][i])\n",
    "        numbers.append(gesture_amount_2[x][i+6])\n",
    "\n",
    "    result = calculate_sum(numbers)\n",
    "    mean = calculate_mean(numbers)\n",
    "    dev = cal_stand_dev(numbers)\n",
    "    print(f\"Class {i} has {mean} +- {dev} and a total of {result} samples\")"
   ]
  },
  {
   "cell_type": "markdown",
   "metadata": {},
   "source": [
    "# Média e desvio padrão da quantidade de frames sem luvas"
   ]
  },
  {
   "cell_type": "code",
   "execution_count": 81,
   "metadata": {},
   "outputs": [
    {
     "name": "stdout",
     "output_type": "stream",
     "text": [
      "Total gloveless samples 169633\n",
      "The average number of frames without gloves per volunteer is 8077.761904761905 +- 153.86447492514617\n"
     ]
    }
   ],
   "source": [
    "numbers = []\n",
    "for i in range(21):\n",
    "    numbers.append(sum(gesture_amount_2[i][:6]))\n",
    "\n",
    "sum_result = calculate_sum(numbers)\n",
    "mean = calculate_mean(numbers)\n",
    "dev = cal_stand_dev(numbers)\n",
    "print(f\"Total gloveless samples {sum_result}\")\n",
    "print(f\"The average number of frames without gloves per volunteer is {mean} +- {dev}\")"
   ]
  },
  {
   "cell_type": "markdown",
   "metadata": {},
   "source": [
    "# Média e desvio padrão da quantidade de frames com luvas"
   ]
  },
  {
   "cell_type": "code",
   "execution_count": 91,
   "metadata": {},
   "outputs": [
    {
     "name": "stdout",
     "output_type": "stream",
     "text": [
      "Total glovefull samples 170081\n",
      "The average number of frames with gloves per volunteer is 8099.0952380952385 +- 179.2353878647812\n"
     ]
    }
   ],
   "source": [
    "numbers = []\n",
    "for i in range(21):\n",
    "    numbers.append(sum(gesture_amount_2[i][6:]))\n",
    "\n",
    "sum_result = calculate_sum(numbers)\n",
    "mean = calculate_mean(numbers)\n",
    "dev = cal_stand_dev(numbers)\n",
    "print(f\"Total glovefull samples {sum_result}\")\n",
    "print(f\"The average number of frames with gloves per volunteer is {mean} +- {dev}\")"
   ]
  },
  {
   "cell_type": "markdown",
   "metadata": {},
   "source": [
    "# Função para ter um array 3D com [voluntarios][gestos][trials]"
   ]
  },
  {
   "cell_type": "code",
   "execution_count": 83,
   "metadata": {},
   "outputs": [],
   "source": [
    "def count_items(source_folder, regex_pattern):\n",
    "    # Check if the source folder exists\n",
    "    if not os.path.exists(source_folder):\n",
    "        print(\"{} folder does not exist.\".format(source_folder))\n",
    "        return\n",
    "\n",
    "    # Get a list of all items in the source folder\n",
    "    items = os.listdir(source_folder)\n",
    "    ammount = 0\n",
    "\n",
    "    # Iterate over each item\n",
    "    for i in range(len(items)):\n",
    "        #  Get the file at index i\n",
    "        item = items[i]\n",
    "        # Check if the item matches the regular expression pattern\n",
    "        if re.match(regex_pattern, item):\n",
    "            ammount += 1\n",
    "    return ammount\n",
    "\n",
    "def create_dataset(ids_to_copy):\n",
    "    gesture_amount = []\n",
    "    trials = 0\n",
    "    for x in ids_to_copy:\n",
    "        gesture_row = []\n",
    "        if x < 10:\n",
    "            source_folder = \"D:\\\\BackupProtocoloRecolha\\\\0{}\".format(x)\n",
    "        else:\n",
    "            source_folder = \"D:\\\\BackupProtocoloRecolha\\\\{}\".format(x)\n",
    "\n",
    "        for i in range(13):\n",
    "            gesture_trial = []\n",
    "            for y in range(15):\n",
    "                regex_pattern = r\"^({})-({}).*\\.png\".format(i, y)\n",
    "            \n",
    "                if i != 6:\n",
    "                    value = count_items(source_folder, regex_pattern)\n",
    "                    if (value > 400):\n",
    "                        gesture_trial.append(value/2)\n",
    "                        gesture_trial.append(value/2)\n",
    "                        trials += 2\n",
    "                    else:\n",
    "                        if (value > 0):\n",
    "                            gesture_trial.append(value)\n",
    "                            trials +=1\n",
    "            gesture_row.append(gesture_trial)\n",
    "        gesture_amount.append(gesture_row)\n",
    "    print(trials)\n",
    "    return gesture_amount"
   ]
  },
  {
   "cell_type": "code",
   "execution_count": 84,
   "metadata": {},
   "outputs": [
    {
     "name": "stdout",
     "output_type": "stream",
     "text": [
      "1512\n"
     ]
    }
   ],
   "source": [
    "ids = [3, 6, 4, 5, 7, 8, 9, 10, 11, 12, 13, 14, 15, 16, 18, 19, 20, 21, 22, 23, 24]\n",
    "\n",
    "gesture_amount = create_dataset(ids)"
   ]
  },
  {
   "cell_type": "markdown",
   "metadata": {},
   "source": [
    "# Média da quantidade de frames por trial"
   ]
  },
  {
   "cell_type": "code",
   "execution_count": 90,
   "metadata": {},
   "outputs": [
    {
     "name": "stdout",
     "output_type": "stream",
     "text": [
      "0,2,5\n",
      "1,12,3\n",
      "10,0,4\n",
      "11,0,3\n",
      "17,1,4\n",
      "17,4,3\n",
      "18,1,4\n",
      "19,7,2\n",
      "Each trial has 224.67857142857142 +- 6.665167773675861\n",
      "There is 339714.0 frames in total.\n"
     ]
    }
   ],
   "source": [
    "numbers = []\n",
    "for x in range(len(gesture_amount)):\n",
    "    for y in range(len(gesture_amount[x])):\n",
    "        for z in range(len(gesture_amount[x][y])):\n",
    "            if(gesture_amount[x][y][z] <200):print(f\"{x},{y},{z}\")\n",
    "            numbers.append(gesture_amount[x][y][z])\n",
    "\n",
    "result = calculate_sum(numbers)\n",
    "mean = calculate_mean(numbers)\n",
    "dev = cal_stand_dev(numbers)\n",
    "print(f\"Each trial has {mean} +- {dev}\")\n",
    "print(f\"There is {result} frames in total.\")"
   ]
  },
  {
   "cell_type": "markdown",
   "metadata": {},
   "source": [
    "# Média da quantidade de frames por mão (3 trials) - esquerda e direita"
   ]
  },
  {
   "cell_type": "code",
   "execution_count": 86,
   "metadata": {},
   "outputs": [
    {
     "name": "stdout",
     "output_type": "stream",
     "text": [
      "Left hand has 674.8809523809524 +- 15.983924038370521\n",
      "Right hand has 673.1904761904761 +- 17.587745682319284\n"
     ]
    }
   ],
   "source": [
    "# A conta da média aqui é a soma da primeira metade dos trials feitos no total a dividir por 756\n",
    "numbers = []\n",
    "for x in range(len(gesture_amount)):\n",
    "    for y in range(len(gesture_amount[x])):\n",
    "        if y != 6:\n",
    "            numbers.append(sum(gesture_amount[x][y][:3]))\n",
    "\n",
    "mean = calculate_mean(numbers)\n",
    "dev = cal_stand_dev(numbers)\n",
    "print(f\"Left hand has {mean} +- {dev}\")\n",
    "\n",
    "# A conta da média aqui é a soma da segunda metade dos trials feitos no total a dividir por 756\n",
    "numbers = []\n",
    "for x in range(len(gesture_amount)):\n",
    "    for y in range(len(gesture_amount[x])):\n",
    "        if y != 6:\n",
    "            numbers.append(sum(gesture_amount[x][y][3:]))\n",
    "\n",
    "mean = calculate_mean(numbers)\n",
    "dev = cal_stand_dev(numbers)\n",
    "print(f\"Right hand has {mean} +- {dev}\")"
   ]
  },
  {
   "cell_type": "markdown",
   "metadata": {},
   "source": [
    "# Média da quantidade de frames por gesto (6 trials)"
   ]
  },
  {
   "cell_type": "code",
   "execution_count": 87,
   "metadata": {},
   "outputs": [
    {
     "name": "stdout",
     "output_type": "stream",
     "text": [
      "Each gesture taken has a mean of 1348.0714285714287 +- 31.411548420121854\n"
     ]
    }
   ],
   "source": [
    "# A conta da média aqui é a soma dos trials feitos no total a dividir por 756\n",
    "numbers = []\n",
    "for x in range(len(gesture_amount)):\n",
    "    for y in range(len(gesture_amount[x])):\n",
    "        if y != 6:\n",
    "            numbers.append(sum(gesture_amount[x][y]))\n",
    "\n",
    "result = calculate_sum(numbers)\n",
    "mean = calculate_mean(numbers)\n",
    "dev = cal_stand_dev(numbers)\n",
    "print(f\"Each gesture taken has a mean of {mean} +- {dev}\")"
   ]
  },
  {
   "cell_type": "markdown",
   "metadata": {},
   "source": [
    "# Média e desvio padrão da quantidade de frames por trial em cada mão"
   ]
  },
  {
   "cell_type": "code",
   "execution_count": 88,
   "metadata": {},
   "outputs": [
    {
     "name": "stdout",
     "output_type": "stream",
     "text": [
      "Each trial taken with the left hand has a mean of 224.96031746031747 +- 6.008405655709143.\n",
      "Theres a total of 170070.0 samples taken with the left hand\n",
      "Each trial taken with the right hand has a mean of 224.3968253968254 +- 7.251842712450922.\n",
      "Theres a total of 169644.0 samples taken with the right hand\n"
     ]
    }
   ],
   "source": [
    "# A média de samples por trial com a mão esquerda\n",
    "numbers = []\n",
    "for x in range(len(gesture_amount)):\n",
    "    for y in range(len(gesture_amount[x])):\n",
    "        for z in range(int(len(gesture_amount[x][y])/2)):\n",
    "            numbers.append(gesture_amount[x][y][z])\n",
    "\n",
    "result = calculate_sum(numbers)\n",
    "mean = calculate_mean(numbers)\n",
    "dev = cal_stand_dev(numbers)\n",
    "print(f\"Each trial taken with the left hand has a mean of {mean} +- {dev}.\")\n",
    "print(f\"Theres a total of {result} samples taken with the left hand\")\n",
    "\n",
    "# A média de samples por trial com a mão direita\n",
    "numbers = []\n",
    "for x in range(len(gesture_amount)):\n",
    "    for y in range(len(gesture_amount[x])):\n",
    "        for z in range(3, int(len(gesture_amount[x][y])/2+3)):\n",
    "            numbers.append(gesture_amount[x][y][z])\n",
    "\n",
    "result = calculate_sum(numbers)\n",
    "mean = calculate_mean(numbers)\n",
    "dev = cal_stand_dev(numbers)\n",
    "print(f\"Each trial taken with the right hand has a mean of {mean} +- {dev}.\")\n",
    "print(f\"Theres a total of {result} samples taken with the right hand\")"
   ]
  }
 ],
 "metadata": {
  "kernelspec": {
   "display_name": ".venv",
   "language": "python",
   "name": "python3"
  },
  "language_info": {
   "codemirror_mode": {
    "name": "ipython",
    "version": 3
   },
   "file_extension": ".py",
   "mimetype": "text/x-python",
   "name": "python",
   "nbconvert_exporter": "python",
   "pygments_lexer": "ipython3",
   "version": "3.9.13"
  },
  "orig_nbformat": 4
 },
 "nbformat": 4,
 "nbformat_minor": 2
}
